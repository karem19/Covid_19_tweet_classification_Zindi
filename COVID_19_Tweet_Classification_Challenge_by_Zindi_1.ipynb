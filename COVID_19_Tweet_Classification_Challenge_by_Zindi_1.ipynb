{
  "nbformat": 4,
  "nbformat_minor": 0,
  "metadata": {
    "language_info": {
      "codemirror_mode": {
        "name": "ipython",
        "version": 3
      },
      "file_extension": ".py",
      "mimetype": "text/x-python",
      "name": "python",
      "nbconvert_exporter": "python",
      "pygments_lexer": "ipython3",
      "version": "3.7.3-final"
    },
    "orig_nbformat": 2,
    "kernelspec": {
      "name": "python3",
      "display_name": "Python 3"
    },
    "colab": {
      "name": "COVID-19 Tweet Classification Challenge by #Zindi.ipynb",
      "provenance": []
    },
    "accelerator": "GPU"
  },
  "cells": [
    {
      "cell_type": "code",
      "metadata": {
        "id": "3D3Eajn3X4EU",
        "colab_type": "code",
        "colab": {
          "base_uri": "https://localhost:8080/",
          "height": 87
        },
        "outputId": "a5b752d0-296b-4161-9d8e-f7d71c1c9ad6"
      },
      "source": [
        "import pandas as pd\n",
        "import numpy as np\n",
        "import matplotlib.pyplot as plt\n",
        "import seaborn as sns\n",
        "from sklearn.model_selection import train_test_split\n",
        "from sklearn.preprocessing import LabelEncoder\n",
        "from keras.models import Model\n",
        "from keras.layers import LSTM, Activation, Dense, Dropout, Input, Embedding,Bidirectional\n",
        "from keras.optimizers import RMSprop\n",
        "from keras.preprocessing.text import Tokenizer\n",
        "from keras.preprocessing import sequence\n",
        "from keras.utils import to_categorical\n",
        "from keras.callbacks import EarlyStopping\n",
        "import tensorflow as tf\n"
      ],
      "execution_count": 1,
      "outputs": [
        {
          "output_type": "stream",
          "text": [
            "/usr/local/lib/python3.6/dist-packages/statsmodels/tools/_testing.py:19: FutureWarning: pandas.util.testing is deprecated. Use the functions in the public API at pandas.testing instead.\n",
            "  import pandas.util.testing as tm\n",
            "Using TensorFlow backend.\n"
          ],
          "name": "stderr"
        }
      ]
    },
    {
      "cell_type": "markdown",
      "metadata": {
        "id": "I1SldrUEOf77",
        "colab_type": "text"
      },
      "source": [
        "# Import data"
      ]
    },
    {
      "cell_type": "code",
      "metadata": {
        "id": "zVPKsconX4Ed",
        "colab_type": "code",
        "colab": {}
      },
      "source": [
        "train = pd.read_csv('/content/updated_train.csv')\n",
        "test=pd.read_csv('/content/updated_test.csv')\n",
        "ss=pd.read_csv('/content/updated_ss.csv')"
      ],
      "execution_count": 0,
      "outputs": []
    },
    {
      "cell_type": "markdown",
      "metadata": {
        "id": "kx41HsEfOmlW",
        "colab_type": "text"
      },
      "source": [
        "# Exploratory data analysis "
      ]
    },
    {
      "cell_type": "code",
      "metadata": {
        "id": "fLB_s_2PX4Ej",
        "colab_type": "code",
        "outputId": "dd3ca3a8-c7d8-46b1-e781-cde360184b4a",
        "colab": {
          "base_uri": "https://localhost:8080/",
          "height": 195
        }
      },
      "source": [
        "ss.head()"
      ],
      "execution_count": 0,
      "outputs": [
        {
          "output_type": "execute_result",
          "data": {
            "text/html": [
              "<div>\n",
              "<style scoped>\n",
              "    .dataframe tbody tr th:only-of-type {\n",
              "        vertical-align: middle;\n",
              "    }\n",
              "\n",
              "    .dataframe tbody tr th {\n",
              "        vertical-align: top;\n",
              "    }\n",
              "\n",
              "    .dataframe thead th {\n",
              "        text-align: right;\n",
              "    }\n",
              "</style>\n",
              "<table border=\"1\" class=\"dataframe\">\n",
              "  <thead>\n",
              "    <tr style=\"text-align: right;\">\n",
              "      <th></th>\n",
              "      <th>ID</th>\n",
              "      <th>target</th>\n",
              "    </tr>\n",
              "  </thead>\n",
              "  <tbody>\n",
              "    <tr>\n",
              "      <th>0</th>\n",
              "      <td>test_2</td>\n",
              "      <td>0</td>\n",
              "    </tr>\n",
              "    <tr>\n",
              "      <th>1</th>\n",
              "      <td>test_3</td>\n",
              "      <td>0</td>\n",
              "    </tr>\n",
              "    <tr>\n",
              "      <th>2</th>\n",
              "      <td>test_4</td>\n",
              "      <td>0</td>\n",
              "    </tr>\n",
              "    <tr>\n",
              "      <th>3</th>\n",
              "      <td>test_8</td>\n",
              "      <td>0</td>\n",
              "    </tr>\n",
              "    <tr>\n",
              "      <th>4</th>\n",
              "      <td>test_9</td>\n",
              "      <td>0</td>\n",
              "    </tr>\n",
              "  </tbody>\n",
              "</table>\n",
              "</div>"
            ],
            "text/plain": [
              "       ID  target\n",
              "0  test_2       0\n",
              "1  test_3       0\n",
              "2  test_4       0\n",
              "3  test_8       0\n",
              "4  test_9       0"
            ]
          },
          "metadata": {
            "tags": []
          },
          "execution_count": 5
        }
      ]
    },
    {
      "cell_type": "code",
      "metadata": {
        "id": "UbRT6RjBX4E1",
        "colab_type": "code",
        "colab": {}
      },
      "source": [
        "ss.target=ss.target.replace(0,0.7)"
      ],
      "execution_count": 0,
      "outputs": []
    },
    {
      "cell_type": "code",
      "metadata": {
        "id": "UIG2CE3rX4E6",
        "colab_type": "code",
        "outputId": "9123e6af-275a-4f3e-a782-867fe08083db",
        "colab": {
          "base_uri": "https://localhost:8080/",
          "height": 195
        }
      },
      "source": [
        "ss.head()"
      ],
      "execution_count": 0,
      "outputs": [
        {
          "output_type": "execute_result",
          "data": {
            "text/html": [
              "<div>\n",
              "<style scoped>\n",
              "    .dataframe tbody tr th:only-of-type {\n",
              "        vertical-align: middle;\n",
              "    }\n",
              "\n",
              "    .dataframe tbody tr th {\n",
              "        vertical-align: top;\n",
              "    }\n",
              "\n",
              "    .dataframe thead th {\n",
              "        text-align: right;\n",
              "    }\n",
              "</style>\n",
              "<table border=\"1\" class=\"dataframe\">\n",
              "  <thead>\n",
              "    <tr style=\"text-align: right;\">\n",
              "      <th></th>\n",
              "      <th>ID</th>\n",
              "      <th>target</th>\n",
              "    </tr>\n",
              "  </thead>\n",
              "  <tbody>\n",
              "    <tr>\n",
              "      <th>0</th>\n",
              "      <td>test_2</td>\n",
              "      <td>0.7</td>\n",
              "    </tr>\n",
              "    <tr>\n",
              "      <th>1</th>\n",
              "      <td>test_3</td>\n",
              "      <td>0.7</td>\n",
              "    </tr>\n",
              "    <tr>\n",
              "      <th>2</th>\n",
              "      <td>test_4</td>\n",
              "      <td>0.7</td>\n",
              "    </tr>\n",
              "    <tr>\n",
              "      <th>3</th>\n",
              "      <td>test_8</td>\n",
              "      <td>0.7</td>\n",
              "    </tr>\n",
              "    <tr>\n",
              "      <th>4</th>\n",
              "      <td>test_9</td>\n",
              "      <td>0.7</td>\n",
              "    </tr>\n",
              "  </tbody>\n",
              "</table>\n",
              "</div>"
            ],
            "text/plain": [
              "       ID  target\n",
              "0  test_2     0.7\n",
              "1  test_3     0.7\n",
              "2  test_4     0.7\n",
              "3  test_8     0.7\n",
              "4  test_9     0.7"
            ]
          },
          "metadata": {
            "tags": []
          },
          "execution_count": 7
        }
      ]
    },
    {
      "cell_type": "code",
      "metadata": {
        "id": "WbCBkPJrX4FF",
        "colab_type": "code",
        "outputId": "9bf7ca64-96bc-4a36-cf5a-ae25301b4953",
        "colab": {
          "base_uri": "https://localhost:8080/",
          "height": 284
        }
      },
      "source": [
        "train.describe()"
      ],
      "execution_count": 0,
      "outputs": [
        {
          "output_type": "execute_result",
          "data": {
            "text/html": [
              "<div>\n",
              "<style scoped>\n",
              "    .dataframe tbody tr th:only-of-type {\n",
              "        vertical-align: middle;\n",
              "    }\n",
              "\n",
              "    .dataframe tbody tr th {\n",
              "        vertical-align: top;\n",
              "    }\n",
              "\n",
              "    .dataframe thead th {\n",
              "        text-align: right;\n",
              "    }\n",
              "</style>\n",
              "<table border=\"1\" class=\"dataframe\">\n",
              "  <thead>\n",
              "    <tr style=\"text-align: right;\">\n",
              "      <th></th>\n",
              "      <th>target</th>\n",
              "    </tr>\n",
              "  </thead>\n",
              "  <tbody>\n",
              "    <tr>\n",
              "      <th>count</th>\n",
              "      <td>5287.000000</td>\n",
              "    </tr>\n",
              "    <tr>\n",
              "      <th>mean</th>\n",
              "      <td>0.480613</td>\n",
              "    </tr>\n",
              "    <tr>\n",
              "      <th>std</th>\n",
              "      <td>0.499671</td>\n",
              "    </tr>\n",
              "    <tr>\n",
              "      <th>min</th>\n",
              "      <td>0.000000</td>\n",
              "    </tr>\n",
              "    <tr>\n",
              "      <th>25%</th>\n",
              "      <td>0.000000</td>\n",
              "    </tr>\n",
              "    <tr>\n",
              "      <th>50%</th>\n",
              "      <td>0.000000</td>\n",
              "    </tr>\n",
              "    <tr>\n",
              "      <th>75%</th>\n",
              "      <td>1.000000</td>\n",
              "    </tr>\n",
              "    <tr>\n",
              "      <th>max</th>\n",
              "      <td>1.000000</td>\n",
              "    </tr>\n",
              "  </tbody>\n",
              "</table>\n",
              "</div>"
            ],
            "text/plain": [
              "            target\n",
              "count  5287.000000\n",
              "mean      0.480613\n",
              "std       0.499671\n",
              "min       0.000000\n",
              "25%       0.000000\n",
              "50%       0.000000\n",
              "75%       1.000000\n",
              "max       1.000000"
            ]
          },
          "metadata": {
            "tags": []
          },
          "execution_count": 9
        }
      ]
    },
    {
      "cell_type": "code",
      "metadata": {
        "id": "vnBLzsGmX4FJ",
        "colab_type": "code",
        "outputId": "7efe7526-fd92-408f-ca02-325e89012f1c",
        "colab": {}
      },
      "source": [
        "train.isnull().sum(axis=1)"
      ],
      "execution_count": 0,
      "outputs": [
        {
          "output_type": "execute_result",
          "data": {
            "text/plain": [
              "0       0\n",
              "1       0\n",
              "2       0\n",
              "3       0\n",
              "4       0\n",
              "5       0\n",
              "6       0\n",
              "7       0\n",
              "8       0\n",
              "9       0\n",
              "10      0\n",
              "11      0\n",
              "12      0\n",
              "13      0\n",
              "14      0\n",
              "15      0\n",
              "16      0\n",
              "17      0\n",
              "18      0\n",
              "19      0\n",
              "20      0\n",
              "21      0\n",
              "22      0\n",
              "23      0\n",
              "24      0\n",
              "25      0\n",
              "26      0\n",
              "27      0\n",
              "28      0\n",
              "29      0\n",
              "       ..\n",
              "5257    0\n",
              "5258    0\n",
              "5259    0\n",
              "5260    0\n",
              "5261    0\n",
              "5262    0\n",
              "5263    0\n",
              "5264    0\n",
              "5265    0\n",
              "5266    0\n",
              "5267    0\n",
              "5268    0\n",
              "5269    0\n",
              "5270    0\n",
              "5271    0\n",
              "5272    0\n",
              "5273    0\n",
              "5274    0\n",
              "5275    0\n",
              "5276    0\n",
              "5277    0\n",
              "5278    0\n",
              "5279    0\n",
              "5280    0\n",
              "5281    0\n",
              "5282    0\n",
              "5283    0\n",
              "5284    0\n",
              "5285    0\n",
              "5286    0\n",
              "Length: 5287, dtype: int64"
            ]
          },
          "metadata": {
            "tags": []
          },
          "execution_count": 13
        }
      ]
    },
    {
      "cell_type": "code",
      "metadata": {
        "id": "eYiMLZhjX4FN",
        "colab_type": "code",
        "outputId": "d997526c-3365-404f-ac30-79da2da4eaaa",
        "colab": {
          "base_uri": "https://localhost:8080/",
          "height": 296
        }
      },
      "source": [
        "sns.countplot(train.target)\n"
      ],
      "execution_count": 0,
      "outputs": [
        {
          "output_type": "execute_result",
          "data": {
            "text/plain": [
              "<matplotlib.axes._subplots.AxesSubplot at 0x7f3bbb5bf4e0>"
            ]
          },
          "metadata": {
            "tags": []
          },
          "execution_count": 10
        },
        {
          "output_type": "display_data",
          "data": {
            "image/png": "[encoded data removed]",
            "text/plain": [
              "<Figure size 432x288 with 1 Axes>"
            ]
          },
          "metadata": {
            "tags": [],
            "needs_background": "light"
          }
        }
      ]
    },
    {
      "cell_type": "markdown",
      "metadata": {
        "id": "N2akySmeOt2h",
        "colab_type": "text"
      },
      "source": [
        "# Defining model"
      ]
    },
    {
      "cell_type": "code",
      "metadata": {
        "id": "U3GsJmwvpff8",
        "colab_type": "code",
        "colab": {}
      },
      "source": [
        "from tensorflow.keras.preprocessing.text import Tokenizer\n",
        "from tensorflow.keras.preprocessing.sequence import pad_sequences\n",
        "from tensorflow.keras.utils import to_categorical\n",
        "from tensorflow.keras import regularizers\n",
        "\n",
        "from keras.preprocessing import sequence\n",
        "from keras.models import Sequential\n",
        "from keras.layers import Dense, Dropout, Embedding, LSTM, Bidirectional,Conv1D,MaxPooling1D\n",
        "from keras.datasets import imdb"
      ],
      "execution_count": 0,
      "outputs": []
    },
    {
      "cell_type": "code",
      "metadata": {
        "id": "8gLaUHW7puvu",
        "colab_type": "code",
        "colab": {}
      },
      "source": [
        "lenghts=[]\n",
        "for text in train.text:\n",
        "  lenghts.append(len(text))"
      ],
      "execution_count": 0,
      "outputs": []
    },
    {
      "cell_type": "code",
      "metadata": {
        "id": "614oepQ6qKZG",
        "colab_type": "code",
        "colab": {}
      },
      "source": [
        "embedding_dim = 100\n",
        "max_length = max(lenghts)\n",
        "trunc_type='post'\n",
        "padding_type='post'\n",
        "oov_tok = \"<OOV>\"\n",
        "training_size=160000\n",
        "test_portion=.1\n",
        "\n",
        "corpus = []"
      ],
      "execution_count": 0,
      "outputs": []
    },
    {
      "cell_type": "code",
      "metadata": {
        "id": "zRKJ7amAtLiK",
        "colab_type": "code",
        "outputId": "f9b0e534-a6f9-4e9c-fb54-a02c20888c11",
        "colab": {
          "base_uri": "https://localhost:8080/",
          "height": 402
        }
      },
      "source": [
        "tranc=train\n",
        "tranc=tranc.drop(columns=['ID'])\n",
        "tranc"
      ],
      "execution_count": 7,
      "outputs": [
        {
          "output_type": "execute_result",
          "data": {
            "text/html": [
              "<div>\n",
              "<style scoped>\n",
              "    .dataframe tbody tr th:only-of-type {\n",
              "        vertical-align: middle;\n",
              "    }\n",
              "\n",
              "    .dataframe tbody tr th {\n",
              "        vertical-align: top;\n",
              "    }\n",
              "\n",
              "    .dataframe thead th {\n",
              "        text-align: right;\n",
              "    }\n",
              "</style>\n",
              "<table border=\"1\" class=\"dataframe\">\n",
              "  <thead>\n",
              "    <tr style=\"text-align: right;\">\n",
              "      <th></th>\n",
              "      <th>text</th>\n",
              "      <th>target</th>\n",
              "    </tr>\n",
              "  </thead>\n",
              "  <tbody>\n",
              "    <tr>\n",
              "      <th>0</th>\n",
              "      <td>The bitcoin halving is cancelled due to</td>\n",
              "      <td>1</td>\n",
              "    </tr>\n",
              "    <tr>\n",
              "      <th>1</th>\n",
              "      <td>MercyOfAllah In good times wrapped in its gran...</td>\n",
              "      <td>0</td>\n",
              "    </tr>\n",
              "    <tr>\n",
              "      <th>2</th>\n",
              "      <td>266 Days No Digital India No Murder of e learn...</td>\n",
              "      <td>1</td>\n",
              "    </tr>\n",
              "    <tr>\n",
              "      <th>3</th>\n",
              "      <td>India is likely to run out of the remaining RN...</td>\n",
              "      <td>1</td>\n",
              "    </tr>\n",
              "    <tr>\n",
              "      <th>4</th>\n",
              "      <td>In these tough times the best way to grow is t...</td>\n",
              "      <td>0</td>\n",
              "    </tr>\n",
              "    <tr>\n",
              "      <th>...</th>\n",
              "      <td>...</td>\n",
              "      <td>...</td>\n",
              "    </tr>\n",
              "    <tr>\n",
              "      <th>5282</th>\n",
              "      <td>The spread of the novel among asylum seekers o...</td>\n",
              "      <td>1</td>\n",
              "    </tr>\n",
              "    <tr>\n",
              "      <th>5283</th>\n",
              "      <td>Hundreds of Jewish  patients are being treated...</td>\n",
              "      <td>1</td>\n",
              "    </tr>\n",
              "    <tr>\n",
              "      <th>5284</th>\n",
              "      <td>Beats me Honestly most of the people I follow ...</td>\n",
              "      <td>0</td>\n",
              "    </tr>\n",
              "    <tr>\n",
              "      <th>5285</th>\n",
              "      <td>Help us reach more people by donating and shar...</td>\n",
              "      <td>0</td>\n",
              "    </tr>\n",
              "    <tr>\n",
              "      <th>5286</th>\n",
              "      <td>Interest Rate Swap Derivative Pricing in Pytho...</td>\n",
              "      <td>0</td>\n",
              "    </tr>\n",
              "  </tbody>\n",
              "</table>\n",
              "<p>5287 rows × 2 columns</p>\n",
              "</div>"
            ],
            "text/plain": [
              "                                                   text  target\n",
              "0               The bitcoin halving is cancelled due to       1\n",
              "1     MercyOfAllah In good times wrapped in its gran...       0\n",
              "2     266 Days No Digital India No Murder of e learn...       1\n",
              "3     India is likely to run out of the remaining RN...       1\n",
              "4     In these tough times the best way to grow is t...       0\n",
              "...                                                 ...     ...\n",
              "5282  The spread of the novel among asylum seekers o...       1\n",
              "5283  Hundreds of Jewish  patients are being treated...       1\n",
              "5284  Beats me Honestly most of the people I follow ...       0\n",
              "5285  Help us reach more people by donating and shar...       0\n",
              "5286  Interest Rate Swap Derivative Pricing in Pytho...       0\n",
              "\n",
              "[5287 rows x 2 columns]"
            ]
          },
          "metadata": {
            "tags": []
          },
          "execution_count": 7
        }
      ]
    },
    {
      "cell_type": "code",
      "metadata": {
        "id": "AZeJhpsctwGo",
        "colab_type": "code",
        "colab": {}
      },
      "source": [
        "t=tranc.values"
      ],
      "execution_count": 0,
      "outputs": []
    },
    {
      "cell_type": "code",
      "metadata": {
        "id": "NPE-QzNuyEvq",
        "colab_type": "code",
        "outputId": "0d177aab-8f75-4b62-ea32-cc22e78445e6",
        "colab": {
          "base_uri": "https://localhost:8080/",
          "height": 34
        }
      },
      "source": [
        "corpus=[]\n",
        "l=list(t)\n",
        "for e in l :\n",
        "  corpus.append(e)\n",
        "corpus[0]"
      ],
      "execution_count": 9,
      "outputs": [
        {
          "output_type": "execute_result",
          "data": {
            "text/plain": [
              "array(['The bitcoin halving is cancelled due to', 1], dtype=object)"
            ]
          },
          "metadata": {
            "tags": []
          },
          "execution_count": 9
        }
      ]
    },
    {
      "cell_type": "code",
      "metadata": {
        "id": "mi5go0Lit0fC",
        "colab_type": "code",
        "outputId": "fdf1d27e-65ca-4906-f15d-813286fec570",
        "colab": {
          "base_uri": "https://localhost:8080/",
          "height": 195
        }
      },
      "source": [
        "train.head()"
      ],
      "execution_count": 0,
      "outputs": [
        {
          "output_type": "execute_result",
          "data": {
            "text/html": [
              "<div>\n",
              "<style scoped>\n",
              "    .dataframe tbody tr th:only-of-type {\n",
              "        vertical-align: middle;\n",
              "    }\n",
              "\n",
              "    .dataframe tbody tr th {\n",
              "        vertical-align: top;\n",
              "    }\n",
              "\n",
              "    .dataframe thead th {\n",
              "        text-align: right;\n",
              "    }\n",
              "</style>\n",
              "<table border=\"1\" class=\"dataframe\">\n",
              "  <thead>\n",
              "    <tr style=\"text-align: right;\">\n",
              "      <th></th>\n",
              "      <th>ID</th>\n",
              "      <th>text</th>\n",
              "      <th>target</th>\n",
              "    </tr>\n",
              "  </thead>\n",
              "  <tbody>\n",
              "    <tr>\n",
              "      <th>0</th>\n",
              "      <td>train_0</td>\n",
              "      <td>The bitcoin halving is cancelled due to</td>\n",
              "      <td>1</td>\n",
              "    </tr>\n",
              "    <tr>\n",
              "      <th>1</th>\n",
              "      <td>train_1</td>\n",
              "      <td>MercyOfAllah In good times wrapped in its gran...</td>\n",
              "      <td>0</td>\n",
              "    </tr>\n",
              "    <tr>\n",
              "      <th>2</th>\n",
              "      <td>train_2</td>\n",
              "      <td>266 Days No Digital India No Murder of e learn...</td>\n",
              "      <td>1</td>\n",
              "    </tr>\n",
              "    <tr>\n",
              "      <th>3</th>\n",
              "      <td>train_3</td>\n",
              "      <td>India is likely to run out of the remaining RN...</td>\n",
              "      <td>1</td>\n",
              "    </tr>\n",
              "    <tr>\n",
              "      <th>4</th>\n",
              "      <td>train_4</td>\n",
              "      <td>In these tough times the best way to grow is t...</td>\n",
              "      <td>0</td>\n",
              "    </tr>\n",
              "  </tbody>\n",
              "</table>\n",
              "</div>"
            ],
            "text/plain": [
              "        ID                                               text  target\n",
              "0  train_0            The bitcoin halving is cancelled due to       1\n",
              "1  train_1  MercyOfAllah In good times wrapped in its gran...       0\n",
              "2  train_2  266 Days No Digital India No Murder of e learn...       1\n",
              "3  train_3  India is likely to run out of the remaining RN...       1\n",
              "4  train_4  In these tough times the best way to grow is t...       0"
            ]
          },
          "metadata": {
            "tags": []
          },
          "execution_count": 19
        }
      ]
    },
    {
      "cell_type": "markdown",
      "metadata": {
        "id": "GzV2pHstO4dR",
        "colab_type": "text"
      },
      "source": [
        "# Tokenizing data\n"
      ]
    },
    {
      "cell_type": "code",
      "metadata": {
        "id": "cqNa2-HkqXT-",
        "colab_type": "code",
        "colab": {}
      },
      "source": [
        "import random\n",
        "sentences=[]\n",
        "labels=[]\n",
        "random.shuffle(corpus)\n",
        "training_size=train.shape[0]\n",
        "for x in range(training_size):\n",
        "    sentences.append(corpus[x][0])\n",
        "    labels.append(corpus[x][1])\n",
        "\n",
        "\n",
        "tokenizer = Tokenizer()\n",
        "tokenizer.fit_on_texts(sentences)\n",
        "\n",
        "word_index = tokenizer.word_index\n",
        "vocab_size=len(word_index)\n",
        "\n",
        "sequences = tokenizer.texts_to_sequences(sentences)\n",
        "padded = pad_sequences(sequences, maxlen=max_length, padding=padding_type, truncating=trunc_type)\n",
        "\n",
        "split = int(test_portion * training_size)\n",
        "\n",
        "test_sequences = padded[0:split]\n",
        "training_sequences = padded[split:training_size]\n",
        "test_labels = labels[0:split]\n",
        "training_labels = labels[split:training_size]"
      ],
      "execution_count": 0,
      "outputs": []
    },
    {
      "cell_type": "code",
      "metadata": {
        "id": "FVwiGjDV1_Jw",
        "colab_type": "code",
        "colab": {}
      },
      "source": [
        "test_sequences=np.array(test_sequences)\n",
        "training_sequences=np.array(training_sequences)\n",
        "test_labels=np.array(test_labels)\n",
        "training_labels=np.array(training_labels)"
      ],
      "execution_count": 0,
      "outputs": []
    },
    {
      "cell_type": "markdown",
      "metadata": {
        "id": "niv2Iu6LO-6W",
        "colab_type": "text"
      },
      "source": [
        "# Creating 100 dimensions embeddings with GloVe"
      ]
    },
    {
      "cell_type": "code",
      "metadata": {
        "id": "c1JwJDYByyK3",
        "colab_type": "code",
        "outputId": "b3791d1d-18e1-4459-b0d1-ca0594650c1f",
        "colab": {
          "base_uri": "https://localhost:8080/",
          "height": 202
        }
      },
      "source": [
        "# Note this is the 100 dimension version of GloVe from Stanford\n",
        "# I unzipped and hosted it on my site to make this notebook easier\n",
        "!wget --no-check-certificate \\\n",
        "    https://storage.googleapis.com/laurencemoroney-blog.appspot.com/glove.6B.100d.txt \\\n",
        "    -O /tmp/glove.6B.100d.txt\n",
        "embeddings_index = {};\n",
        "with open('/tmp/glove.6B.100d.txt') as f:\n",
        "    for line in f:\n",
        "        values = line.split();\n",
        "        word = values[0];\n",
        "        coefs = np.asarray(values[1:], dtype='float32');\n",
        "        embeddings_index[word] = coefs;\n",
        "\n",
        "embeddings_matrix = np.zeros((vocab_size+1, embedding_dim));\n",
        "for word, i in word_index.items():\n",
        "    embedding_vector = embeddings_index.get(word);\n",
        "    if embedding_vector is not None:\n",
        "        embeddings_matrix[i] = embedding_vector;"
      ],
      "execution_count": 12,
      "outputs": [
        {
          "output_type": "stream",
          "text": [
            "--2020-05-09 23:13:01--  https://storage.googleapis.com/laurencemoroney-blog.appspot.com/glove.6B.100d.txt\n",
            "Resolving storage.googleapis.com (storage.googleapis.com)... 108.177.119.128, 2a00:1450:4013:c01::80\n",
            "Connecting to storage.googleapis.com (storage.googleapis.com)|108.177.119.128|:443... connected.\n",
            "HTTP request sent, awaiting response... 200 OK\n",
            "Length: 347116733 (331M) [text/plain]\n",
            "Saving to: ‘/tmp/glove.6B.100d.txt’\n",
            "\n",
            "/tmp/glove.6B.100d. 100%[===================>] 331.04M   103MB/s    in 3.2s    \n",
            "\n",
            "2020-05-09 23:13:04 (103 MB/s) - ‘/tmp/glove.6B.100d.txt’ saved [347116733/347116733]\n",
            "\n"
          ],
          "name": "stdout"
        }
      ]
    },
    {
      "cell_type": "code",
      "metadata": {
        "id": "tJ5vGZPF1jyY",
        "colab_type": "code",
        "outputId": "b6cf62e6-e0f4-4188-c118-60e7b2be02b7",
        "colab": {
          "base_uri": "https://localhost:8080/",
          "height": 34
        }
      },
      "source": [
        "embeddings_matrix.shape"
      ],
      "execution_count": 29,
      "outputs": [
        {
          "output_type": "execute_result",
          "data": {
            "text/plain": [
              "(14329, 100)"
            ]
          },
          "metadata": {
            "tags": []
          },
          "execution_count": 29
        }
      ]
    },
    {
      "cell_type": "markdown",
      "metadata": {
        "id": "kJQmTXlhPKvP",
        "colab_type": "text"
      },
      "source": [
        "# Our model"
      ]
    },
    {
      "cell_type": "code",
      "metadata": {
        "id": "VNA9IAxslJ5m",
        "colab_type": "code",
        "colab": {
          "base_uri": "https://localhost:8080/",
          "height": 353
        },
        "outputId": "ed056150-1aa1-467c-fba1-0f9b83d281df"
      },
      "source": [
        "model = Sequential()\n",
        "model.add(Embedding(vocab_size+1, embedding_dim, input_length=max_length, weights=[embeddings_matrix], trainable=False))\n",
        "model.add(Dropout(0.2))\n",
        "\n",
        "model.add(Conv1D(64, 5, activation='relu'))\n",
        "model.add(MaxPooling1D(pool_size=4))\n",
        "model.add(Bidirectional(LSTM(64)))\n",
        "model.add(Dense(1, activation='sigmoid'))\n",
        "model.compile(loss='binary_crossentropy',optimizer='adam',metrics=['accuracy'])\n",
        "model.summary()"
      ],
      "execution_count": 19,
      "outputs": [
        {
          "output_type": "stream",
          "text": [
            "Model: \"sequential_1\"\n",
            "_________________________________________________________________\n",
            "Layer (type)                 Output Shape              Param #   \n",
            "=================================================================\n",
            "embedding_1 (Embedding)      (None, 302, 100)          1432900   \n",
            "_________________________________________________________________\n",
            "dropout_1 (Dropout)          (None, 302, 100)          0         \n",
            "_________________________________________________________________\n",
            "conv1d_1 (Conv1D)            (None, 298, 64)           32064     \n",
            "_________________________________________________________________\n",
            "max_pooling1d_1 (MaxPooling1 (None, 74, 64)            0         \n",
            "_________________________________________________________________\n",
            "bidirectional_1 (Bidirection (None, 128)               66048     \n",
            "_________________________________________________________________\n",
            "dense_1 (Dense)              (None, 1)                 129       \n",
            "=================================================================\n",
            "Total params: 1,531,141\n",
            "Trainable params: 98,241\n",
            "Non-trainable params: 1,432,900\n",
            "_________________________________________________________________\n"
          ],
          "name": "stdout"
        }
      ]
    },
    {
      "cell_type": "code",
      "metadata": {
        "id": "1-EN8K41zUqZ",
        "colab_type": "code",
        "outputId": "fbb819e6-87b2-4553-a04d-eb4991a0d1fd",
        "colab": {
          "base_uri": "https://localhost:8080/",
          "height": 390
        }
      },
      "source": [
        "num_epochs = 10\n",
        "\n",
        "history = model.fit(training_sequences, training_labels, epochs=num_epochs, validation_data=(test_sequences, test_labels), verbose=1)"
      ],
      "execution_count": 20,
      "outputs": [
        {
          "output_type": "stream",
          "text": [
            "Train on 4759 samples, validate on 528 samples\n",
            "Epoch 1/10\n",
            "4759/4759 [==============================] - 38s 8ms/step - loss: 0.4599 - accuracy: 0.7878 - val_loss: 0.3535 - val_accuracy: 0.8561\n",
            "Epoch 2/10\n",
            "4759/4759 [==============================] - 37s 8ms/step - loss: 0.3453 - accuracy: 0.8485 - val_loss: 0.2948 - val_accuracy: 0.8845\n",
            "Epoch 3/10\n",
            "4759/4759 [==============================] - 37s 8ms/step - loss: 0.3069 - accuracy: 0.8678 - val_loss: 0.2442 - val_accuracy: 0.9129\n",
            "Epoch 4/10\n",
            "4759/4759 [==============================] - 38s 8ms/step - loss: 0.2624 - accuracy: 0.8886 - val_loss: 0.2167 - val_accuracy: 0.9186\n",
            "Epoch 5/10\n",
            "4759/4759 [==============================] - 37s 8ms/step - loss: 0.2191 - accuracy: 0.9141 - val_loss: 0.2036 - val_accuracy: 0.9299\n",
            "Epoch 6/10\n",
            "4759/4759 [==============================] - 37s 8ms/step - loss: 0.1827 - accuracy: 0.9298 - val_loss: 0.2061 - val_accuracy: 0.9186\n",
            "Epoch 7/10\n",
            "4759/4759 [==============================] - 37s 8ms/step - loss: 0.1600 - accuracy: 0.9365 - val_loss: 0.1918 - val_accuracy: 0.9261\n",
            "Epoch 8/10\n",
            "4759/4759 [==============================] - 37s 8ms/step - loss: 0.1307 - accuracy: 0.9498 - val_loss: 0.2441 - val_accuracy: 0.8845\n",
            "Epoch 9/10\n",
            "4759/4759 [==============================] - 37s 8ms/step - loss: 0.1113 - accuracy: 0.9618 - val_loss: 0.2000 - val_accuracy: 0.9186\n",
            "Epoch 10/10\n",
            "4759/4759 [==============================] - 39s 8ms/step - loss: 0.0993 - accuracy: 0.9609 - val_loss: 0.2271 - val_accuracy: 0.9072\n"
          ],
          "name": "stdout"
        }
      ]
    },
    {
      "cell_type": "code",
      "metadata": {
        "id": "iYTuTHH1yqB6",
        "colab_type": "code",
        "colab": {}
      },
      "source": [
        "\n",
        "\n",
        "\n",
        "tokenizer = Tokenizer()\n",
        "tokenizer.fit_on_texts(test_sentences)\n",
        "\n",
        "word_index = tokenizer.word_index\n",
        "vocab_size=len(word_index)\n",
        "\n",
        "sequences = tokenizer.texts_to_sequences(test_sentences)\n",
        "padded = pad_sequences(sequences, maxlen=max_length, padding=padding_type, truncating=trunc_type)\n",
        "\n",
        "\n",
        "test_sequences = padded\n"
      ],
      "execution_count": 0,
      "outputs": []
    },
    {
      "cell_type": "code",
      "metadata": {
        "id": "qXT9nS8B1vpG",
        "colab_type": "code",
        "colab": {}
      },
      "source": [
        "test_sentences=[]\n",
        "test_sentences=test.text.to_list()\n"
      ],
      "execution_count": 0,
      "outputs": []
    },
    {
      "cell_type": "code",
      "metadata": {
        "id": "QgOnBA1o2N3I",
        "colab_type": "code",
        "colab": {}
      },
      "source": [
        "test_sequences=np.array(test_sequences)\n"
      ],
      "execution_count": 0,
      "outputs": []
    },
    {
      "cell_type": "code",
      "metadata": {
        "id": "_W5_fPeByehG",
        "colab_type": "code",
        "colab": {}
      },
      "source": [
        "predict=model.predict(test_sequences)"
      ],
      "execution_count": 0,
      "outputs": []
    },
    {
      "cell_type": "code",
      "metadata": {
        "id": "-aPteEgxy4mN",
        "colab_type": "code",
        "colab": {}
      },
      "source": [
        "list1 = predict.tolist()"
      ],
      "execution_count": 0,
      "outputs": []
    },
    {
      "cell_type": "markdown",
      "metadata": {
        "id": "eVwgJunuPZYP",
        "colab_type": "text"
      },
      "source": [
        "# Creating submission"
      ]
    },
    {
      "cell_type": "code",
      "metadata": {
        "id": "YJqk4qKdztvm",
        "colab_type": "code",
        "colab": {}
      },
      "source": [
        "submission = pd.DataFrame({\"ID\": ss[\"ID\"],\n",
        "\n",
        "\"target\": list1\n",
        "\n",
        "})\n",
        "\n",
        "submission.to_csv(\"submission.csv\", index = False)"
      ],
      "execution_count": 0,
      "outputs": []
    },
    {
      "cell_type": "code",
      "metadata": {
        "id": "6C0vd43bPbrs",
        "colab_type": "code",
        "colab": {}
      },
      "source": [
        ""
      ],
      "execution_count": 0,
      "outputs": []
    }
  ]
}